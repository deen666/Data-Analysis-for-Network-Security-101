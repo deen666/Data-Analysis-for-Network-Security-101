{
  "nbformat": 4,
  "nbformat_minor": 0,
  "metadata": {
    "colab": {
      "name": "Network_Analysis.ipynb",
      "provenance": [],
      "mount_file_id": "1fFJ7d_hSsuvHxiq-QUgIrxhZFylgoWHV",
      "authorship_tag": "ABX9TyM8O7tP/yJ+Zvo6cKaOHNiJ"
    },
    "kernelspec": {
      "name": "python3",
      "display_name": "Python 3"
    }
  },
  "cells": [
    {
      "cell_type": "code",
      "metadata": {
        "id": "otqVn5RbUod0"
      },
      "source": [
        "import pandas as pd \r\n",
        "import numpy as np\r\n",
        "import matplotlib.pyplot as plt\r\n",
        "import gc"
      ],
      "execution_count": 1,
      "outputs": []
    },
    {
      "cell_type": "code",
      "metadata": {
        "colab": {
          "base_uri": "https://localhost:8080/"
        },
        "id": "tgIQhDy0Uz1r",
        "outputId": "6cb13341-df44-4564-dc4e-507f86dbc243"
      },
      "source": [
        "!ls"
      ],
      "execution_count": 6,
      "outputs": [
        {
          "output_type": "stream",
          "text": [
            "drive  sample_data\n"
          ],
          "name": "stdout"
        }
      ]
    },
    {
      "cell_type": "code",
      "metadata": {
        "colab": {
          "base_uri": "https://localhost:8080/"
        },
        "id": "5I6Q3d90WrT_",
        "outputId": "eb8ac227-c6c4-4f52-d0a9-098749c72197"
      },
      "source": [
        "df = pd.read_csv(\r\n",
        "    'drive/MyDrive/Network_Analysis/gowiththeflow_20190826.csv',\r\n",
        "    header = 0, \r\n",
        "    names= ['ts', 'src', 'dst', 'port', 'bytes']\r\n",
        ")\r\n",
        "df.info()"
      ],
      "execution_count": 15,
      "outputs": [
        {
          "output_type": "stream",
          "text": [
            "<class 'pandas.core.frame.DataFrame'>\n",
            "RangeIndex: 105747729 entries, 0 to 105747728\n",
            "Data columns (total 5 columns):\n",
            " #   Column  Dtype \n",
            "---  ------  ----- \n",
            " 0   ts      int64 \n",
            " 1   src     object\n",
            " 2   dst     object\n",
            " 3   port    int64 \n",
            " 4   bytes   int64 \n",
            "dtypes: int64(3), object(2)\n",
            "memory usage: 3.9+ GB\n"
          ],
          "name": "stdout"
        }
      ]
    },
    {
      "cell_type": "markdown",
      "metadata": {
        "id": "GTa_KkIlXibn"
      },
      "source": [
        "We create extra features to make it more convenient to do certain filters such as \"inbound traffic\" and \"outbound traffic\"\r\n",
        "\r\n"
      ]
    },
    {
      "cell_type": "code",
      "metadata": {
        "colab": {
          "base_uri": "https://localhost:8080/",
          "height": 197
        },
        "id": "9FTPx8-8W1e5",
        "outputId": "a2ceb63a-e209-49ef-cdf0-ad7262171003"
      },
      "source": [
        "def is_internal(s):\r\n",
        "    return s.str.startswith(('12.', '13.', '14.')) \r\n",
        "\r\n",
        "df['src_int'] = is_internal(df['src'])\r\n",
        "df['dst_int'] = is_internal(df['dst'])\r\n",
        "\r\n",
        "df['ts']      = pd.to_datetime(df.ts, unit='ms')\r\n",
        "df['hour']    = df.ts.dt.hour.astype('uint8')\r\n",
        "df['minute']  = df.ts.dt.minute.astype('uint8')\r\n",
        "df['port']    = df['port'].astype('uint8')\r\n",
        "df.head()"
      ],
      "execution_count": 16,
      "outputs": [
        {
          "output_type": "execute_result",
          "data": {
            "text/html": [
              "<div>\n",
              "<style scoped>\n",
              "    .dataframe tbody tr th:only-of-type {\n",
              "        vertical-align: middle;\n",
              "    }\n",
              "\n",
              "    .dataframe tbody tr th {\n",
              "        vertical-align: top;\n",
              "    }\n",
              "\n",
              "    .dataframe thead th {\n",
              "        text-align: right;\n",
              "    }\n",
              "</style>\n",
              "<table border=\"1\" class=\"dataframe\">\n",
              "  <thead>\n",
              "    <tr style=\"text-align: right;\">\n",
              "      <th></th>\n",
              "      <th>ts</th>\n",
              "      <th>src</th>\n",
              "      <th>dst</th>\n",
              "      <th>port</th>\n",
              "      <th>bytes</th>\n",
              "      <th>src_int</th>\n",
              "      <th>dst_int</th>\n",
              "      <th>hour</th>\n",
              "      <th>minute</th>\n",
              "    </tr>\n",
              "  </thead>\n",
              "  <tbody>\n",
              "    <tr>\n",
              "      <th>0</th>\n",
              "      <td>2020-01-06 16:00:00.005</td>\n",
              "      <td>16.79.101.100</td>\n",
              "      <td>12.48.65.39</td>\n",
              "      <td>92</td>\n",
              "      <td>11895</td>\n",
              "      <td>False</td>\n",
              "      <td>True</td>\n",
              "      <td>16</td>\n",
              "      <td>0</td>\n",
              "    </tr>\n",
              "    <tr>\n",
              "      <th>1</th>\n",
              "      <td>2020-01-06 16:00:00.007</td>\n",
              "      <td>18.43.118.103</td>\n",
              "      <td>14.51.30.86</td>\n",
              "      <td>27</td>\n",
              "      <td>898</td>\n",
              "      <td>False</td>\n",
              "      <td>True</td>\n",
              "      <td>16</td>\n",
              "      <td>0</td>\n",
              "    </tr>\n",
              "    <tr>\n",
              "      <th>2</th>\n",
              "      <td>2020-01-06 16:00:00.011</td>\n",
              "      <td>15.71.108.118</td>\n",
              "      <td>14.50.119.33</td>\n",
              "      <td>57</td>\n",
              "      <td>7496</td>\n",
              "      <td>False</td>\n",
              "      <td>True</td>\n",
              "      <td>16</td>\n",
              "      <td>0</td>\n",
              "    </tr>\n",
              "    <tr>\n",
              "      <th>3</th>\n",
              "      <td>2020-01-06 16:00:00.012</td>\n",
              "      <td>14.33.30.103</td>\n",
              "      <td>15.24.31.23</td>\n",
              "      <td>115</td>\n",
              "      <td>20979</td>\n",
              "      <td>True</td>\n",
              "      <td>False</td>\n",
              "      <td>16</td>\n",
              "      <td>0</td>\n",
              "    </tr>\n",
              "    <tr>\n",
              "      <th>4</th>\n",
              "      <td>2020-01-06 16:00:00.012</td>\n",
              "      <td>18.121.115.31</td>\n",
              "      <td>13.56.39.74</td>\n",
              "      <td>92</td>\n",
              "      <td>8620</td>\n",
              "      <td>False</td>\n",
              "      <td>True</td>\n",
              "      <td>16</td>\n",
              "      <td>0</td>\n",
              "    </tr>\n",
              "  </tbody>\n",
              "</table>\n",
              "</div>"
            ],
            "text/plain": [
              "                       ts            src           dst  ...  dst_int  hour  minute\n",
              "0 2020-01-06 16:00:00.005  16.79.101.100   12.48.65.39  ...     True    16       0\n",
              "1 2020-01-06 16:00:00.007  18.43.118.103   14.51.30.86  ...     True    16       0\n",
              "2 2020-01-06 16:00:00.011  15.71.108.118  14.50.119.33  ...     True    16       0\n",
              "3 2020-01-06 16:00:00.012   14.33.30.103   15.24.31.23  ...    False    16       0\n",
              "4 2020-01-06 16:00:00.012  18.121.115.31   13.56.39.74  ...     True    16       0\n",
              "\n",
              "[5 rows x 9 columns]"
            ]
          },
          "metadata": {
            "tags": []
          },
          "execution_count": 16
        }
      ]
    },
    {
      "cell_type": "markdown",
      "metadata": {
        "id": "Go3uyZ64Xloo"
      },
      "source": [
        "We convert the `src` and `dst` as categorical to save on memory.\r\n",
        "\r\n"
      ]
    },
    {
      "cell_type": "code",
      "metadata": {
        "colab": {
          "base_uri": "https://localhost:8080/"
        },
        "id": "2r0pg1tfW2bb",
        "outputId": "b4eff1f5-d2a8-4e93-da1a-207337db9d3f"
      },
      "source": [
        "all_ips = set(df['src'].unique()) | set(df['dst'].unique())\r\n",
        "print('Unique src:', df['src'].nunique())\r\n",
        "print('Unique dst:', df['dst'].nunique())\r\n",
        "print('Total Unique IPs:', len(all_ips))\r\n",
        "\r\n",
        "ip_type = pd.CategoricalDtype(categories=all_ips)\r\n",
        "df['src'] = df['src'].astype(ip_type)\r\n",
        "df['dst'] = df['dst'].astype(ip_type)\r\n",
        "gc.collect()\r\n",
        "df.info()"
      ],
      "execution_count": 17,
      "outputs": [
        {
          "output_type": "stream",
          "text": [
            "Unique src: 6171\n",
            "Unique dst: 6005\n",
            "Total Unique IPs: 6177\n",
            "<class 'pandas.core.frame.DataFrame'>\n",
            "RangeIndex: 105747729 entries, 0 to 105747728\n",
            "Data columns (total 9 columns):\n",
            " #   Column   Dtype         \n",
            "---  ------   -----         \n",
            " 0   ts       datetime64[ns]\n",
            " 1   src      category      \n",
            " 2   dst      category      \n",
            " 3   port     uint8         \n",
            " 4   bytes    int64         \n",
            " 5   src_int  bool          \n",
            " 6   dst_int  bool          \n",
            " 7   hour     uint8         \n",
            " 8   minute   uint8         \n",
            "dtypes: bool(2), category(2), datetime64[ns](1), int64(1), uint8(3)\n",
            "memory usage: 2.5 GB\n"
          ],
          "name": "stdout"
        }
      ]
    },
    {
      "cell_type": "code",
      "metadata": {
        "id": "esswHdO9W4iC"
      },
      "source": [
        "blacklist_ips = []\r\n",
        "answers = []"
      ],
      "execution_count": 18,
      "outputs": []
    },
    {
      "cell_type": "markdown",
      "metadata": {
        "id": "7LJyVvYUXpEQ"
      },
      "source": [
        "**Question 1: Discover Data Exfiltration 1**\r\n",
        "\r\n",
        "Our intellectual property is leaving the building in large chunks. A machine inside is being used to send out all of our widget designs. One host is sending out much more data from the enterprise than the others. What is its IP?\r\n",
        "\r\n",
        "This is straightforward. We get the sources with the most outbound traffic in our network.\r\n"
      ]
    },
    {
      "cell_type": "code",
      "metadata": {
        "colab": {
          "base_uri": "https://localhost:8080/",
          "height": 227
        },
        "id": "dJ6lhBSSW7Vg",
        "outputId": "8a81f709-2952-417b-e527-528d43ed0440"
      },
      "source": [
        "src_bytes_out = df[df['src_int'] & ~df['dst_int']]\\\r\n",
        "  .groupby('src')\\\r\n",
        "  .bytes.sum()\\\r\n",
        "  .pipe(lambda x: x[x > 0])\\\r\n",
        "  .sort_values(ascending=False)\r\n",
        "\r\n",
        "src_bytes_out.to_frame().head()"
      ],
      "execution_count": 19,
      "outputs": [
        {
          "output_type": "execute_result",
          "data": {
            "text/html": [
              "<div>\n",
              "<style scoped>\n",
              "    .dataframe tbody tr th:only-of-type {\n",
              "        vertical-align: middle;\n",
              "    }\n",
              "\n",
              "    .dataframe tbody tr th {\n",
              "        vertical-align: top;\n",
              "    }\n",
              "\n",
              "    .dataframe thead th {\n",
              "        text-align: right;\n",
              "    }\n",
              "</style>\n",
              "<table border=\"1\" class=\"dataframe\">\n",
              "  <thead>\n",
              "    <tr style=\"text-align: right;\">\n",
              "      <th></th>\n",
              "      <th>bytes</th>\n",
              "    </tr>\n",
              "    <tr>\n",
              "      <th>src</th>\n",
              "      <th></th>\n",
              "    </tr>\n",
              "  </thead>\n",
              "  <tbody>\n",
              "    <tr>\n",
              "      <th>13.37.84.125</th>\n",
              "      <td>10625497574</td>\n",
              "    </tr>\n",
              "    <tr>\n",
              "      <th>13.48.72.30</th>\n",
              "      <td>1727525696</td>\n",
              "    </tr>\n",
              "    <tr>\n",
              "      <th>14.51.75.107</th>\n",
              "      <td>1656207638</td>\n",
              "    </tr>\n",
              "    <tr>\n",
              "      <th>14.51.30.86</th>\n",
              "      <td>1647330708</td>\n",
              "    </tr>\n",
              "    <tr>\n",
              "      <th>12.59.25.34</th>\n",
              "      <td>1617316039</td>\n",
              "    </tr>\n",
              "  </tbody>\n",
              "</table>\n",
              "</div>"
            ],
            "text/plain": [
              "                    bytes\n",
              "src                      \n",
              "13.37.84.125  10625497574\n",
              "13.48.72.30    1727525696\n",
              "14.51.75.107   1656207638\n",
              "14.51.30.86    1647330708\n",
              "12.59.25.34    1617316039"
            ]
          },
          "metadata": {
            "tags": []
          },
          "execution_count": 19
        }
      ]
    },
    {
      "cell_type": "code",
      "metadata": {
        "colab": {
          "base_uri": "https://localhost:8080/",
          "height": 312
        },
        "id": "M2cu3T8rW-D9",
        "outputId": "9971eb06-8b1a-4a2e-aaa9-945950d2984f"
      },
      "source": [
        "src_bytes_out.head(10)\\\r\n",
        "    .sort_values()\\\r\n",
        "    .plot.barh(title='Top 10 high outbound traffic srcs')\\\r\n",
        "    .set_xlabel('total outbound bytes')"
      ],
      "execution_count": 20,
      "outputs": [
        {
          "output_type": "execute_result",
          "data": {
            "text/plain": [
              "Text(0.5, 0, 'total outbound bytes')"
            ]
          },
          "metadata": {
            "tags": []
          },
          "execution_count": 20
        },
        {
          "output_type": "display_data",
          "data": {
            "image/png": "[encoded data removed]",
            "text/plain": [
              "<Figure size 432x288 with 1 Axes>"
            ]
          },
          "metadata": {
            "tags": [],
            "needs_background": "light"
          }
        }
      ]
    },
    {
      "cell_type": "code",
      "metadata": {
        "colab": {
          "base_uri": "https://localhost:8080/",
          "height": 312
        },
        "id": "sU76CmF4XABA",
        "outputId": "39de83be-8638-45dc-9923-98955fd11ba0"
      },
      "source": [
        "ax = src_bytes_out\\\r\n",
        "  .plot.hist(bins=50, title='Outbound traffic per src')\r\n",
        "\r\n",
        "ax.set_xlabel('total outbound bytes')\r\n",
        "_ = ax.axvline(src_bytes_out.iloc[0], linestyle='--')\r\n",
        "plt.text(src_bytes_out.iloc[0], 100, '13.37.84.125', rotation=90, horizontalalignment='right')"
      ],
      "execution_count": 21,
      "outputs": [
        {
          "output_type": "execute_result",
          "data": {
            "text/plain": [
              "Text(10625497574, 100, '13.37.84.125')"
            ]
          },
          "metadata": {
            "tags": []
          },
          "execution_count": 21
        },
        {
          "output_type": "display_data",
          "data": {
            "image/png": "[encoded data removed]",
            "text/plain": [
              "<Figure size 432x288 with 1 Axes>"
            ]
          },
          "metadata": {
            "tags": [],
            "needs_background": "light"
          }
        }
      ]
    },
    {
      "cell_type": "markdown",
      "metadata": {
        "id": "So-hfT4pYWTB"
      },
      "source": [
        "**Question 2: Discover Data Exfiltration 2**\r\n",
        "\r\n",
        "Another attacker has a job scheduled that export the contents of our internal wiki. One host is sending out much more data during off hours from the enterprise than the others, different from the host in the Question 1. What is its IP?\r\n",
        "\r\n",
        "We look for the `src` that sends much more data outbound during off hours. To do this we first have to identify which are the off hours. From the plot below, we see regular office hours are between 16:00 to 23:00. So we filter for 0:00 to 16:00."
      ]
    },
    {
      "cell_type": "code",
      "metadata": {
        "colab": {
          "base_uri": "https://localhost:8080/",
          "height": 315
        },
        "id": "iBui9x5UXEHO",
        "outputId": "dc312ff1-481f-42d4-92a0-ba70b347e83b"
      },
      "source": [
        "df.groupby('hour').size()\\\r\n",
        "  .plot.bar(title='Activity per hour')\\\r\n",
        "  .set_ylabel('Connection counts')"
      ],
      "execution_count": 22,
      "outputs": [
        {
          "output_type": "execute_result",
          "data": {
            "text/plain": [
              "Text(0, 0.5, 'Connection counts')"
            ]
          },
          "metadata": {
            "tags": []
          },
          "execution_count": 22
        },
        {
          "output_type": "display_data",
          "data": {
            "image/png": "[encoded data removed]",
            "text/plain": [
              "<Figure size 432x288 with 1 Axes>"
            ]
          },
          "metadata": {
            "tags": [],
            "needs_background": "light"
          }
        }
      ]
    },
    {
      "cell_type": "code",
      "metadata": {
        "colab": {
          "base_uri": "https://localhost:8080/"
        },
        "id": "v_V4xTjWYgq2",
        "outputId": "cf42c6e1-c5c7-4b84-9f30-34f43ef603f9"
      },
      "source": [
        "off_hours_activity = df[\r\n",
        "    ~df['src'].isin(blacklist_ips)          # Not including previous answers\r\n",
        "    & df['src_int'] & ~df['dst_int']        # Outbound\r\n",
        "    & (df['hour'] >= 0) & (df['hour'] < 16) # Off hours\r\n",
        "].groupby('src')\\\r\n",
        "  .bytes.sum()\\\r\n",
        "  .sort_values(ascending=False)\\\r\n",
        "  .where(lambda x: x > 0)\r\n",
        "\r\n",
        "off_hours_activity.head()"
      ],
      "execution_count": 23,
      "outputs": [
        {
          "output_type": "execute_result",
          "data": {
            "text/plain": [
              "src\n",
              "13.37.84.125    731158032.0\n",
              "12.55.77.96     289566918.0\n",
              "13.48.72.30     120862595.0\n",
              "14.51.30.86     116752466.0\n",
              "12.59.25.34     115533918.0\n",
              "Name: bytes, dtype: float64"
            ]
          },
          "metadata": {
            "tags": []
          },
          "execution_count": 23
        }
      ]
    },
    {
      "cell_type": "code",
      "metadata": {
        "colab": {
          "base_uri": "https://localhost:8080/",
          "height": 312
        },
        "id": "AEkd29hzYkR-",
        "outputId": "afd341e7-9cad-45ef-cfc1-e64a894e749b"
      },
      "source": [
        "off_hours_activity.head(10)\\\r\n",
        "    .sort_values()\\\r\n",
        "    .plot.barh(title='Top 10 off hours high outbound traffic srcs')\\\r\n",
        "    .set_xlabel('total outbound bytes')"
      ],
      "execution_count": 24,
      "outputs": [
        {
          "output_type": "execute_result",
          "data": {
            "text/plain": [
              "Text(0.5, 0, 'total outbound bytes')"
            ]
          },
          "metadata": {
            "tags": []
          },
          "execution_count": 24
        },
        {
          "output_type": "display_data",
          "data": {
            "image/png": "[encoded data removed]",
            "text/plain": [
              "<Figure size 432x288 with 1 Axes>"
            ]
          },
          "metadata": {
            "tags": [],
            "needs_background": "light"
          }
        }
      ]
    },
    {
      "cell_type": "code",
      "metadata": {
        "colab": {
          "base_uri": "https://localhost:8080/",
          "height": 312
        },
        "id": "xFbWBj_gYpIA",
        "outputId": "d728d13c-1457-4d3f-cca3-45bd20cd8f3c"
      },
      "source": [
        "ax = off_hours_activity.plot.hist(bins=50, title='Off hours outbound traffic')\r\n",
        "ax.set_xlabel('total outbound bytes')\r\n",
        "_ = ax.axvline(off_hours_activity.iloc[0], linestyle='--')\r\n",
        "plt.text(off_hours_activity.iloc[0], 40, '12.55.77.96', rotation=90, horizontalalignment='right')"
      ],
      "execution_count": 25,
      "outputs": [
        {
          "output_type": "execute_result",
          "data": {
            "text/plain": [
              "Text(731158032.0, 40, '12.55.77.96')"
            ]
          },
          "metadata": {
            "tags": []
          },
          "execution_count": 25
        },
        {
          "output_type": "display_data",
          "data": {
            "image/png": "[encoded data removed]",
            "text/plain": [
              "<Figure size 432x288 with 1 Axes>"
            ]
          },
          "metadata": {
            "tags": [],
            "needs_background": "light"
          }
        }
      ]
    },
    {
      "cell_type": "markdown",
      "metadata": {
        "id": "1obneVtZYsjn"
      },
      "source": [
        "Looking only at off hour traffic is important because this might not be something that we would detect if we only looked at overall outbound traffic."
      ]
    },
    {
      "cell_type": "code",
      "metadata": {
        "colab": {
          "base_uri": "https://localhost:8080/",
          "height": 312
        },
        "id": "BhKPYByzYtWL",
        "outputId": "c6a1a9d7-ebe6-4488-b2ce-c98f23bd3490"
      },
      "source": [
        "ax = src_bytes_out\\\r\n",
        "  .plot.hist(bins=50, title='Outbound traffic per src')\r\n",
        "\r\n",
        "ax.set_xlabel('total outbound bytes')\r\n",
        "_ = ax.axvline(src_bytes_out.loc['12.55.77.96'], color='k', linestyle='--')\r\n",
        "plt.text(src_bytes_out.loc['12.55.77.96'], 100, '12.55.77.96', rotation=90, horizontalalignment='right')"
      ],
      "execution_count": 26,
      "outputs": [
        {
          "output_type": "execute_result",
          "data": {
            "text/plain": [
              "Text(1033651932, 100, '12.55.77.96')"
            ]
          },
          "metadata": {
            "tags": []
          },
          "execution_count": 26
        },
        {
          "output_type": "display_data",
          "data": {
            "image/png": "[encoded data removed]",
            "text/plain": [
              "<Figure size 432x288 with 1 Axes>"
            ]
          },
          "metadata": {
            "tags": [],
            "needs_background": "light"
          }
        }
      ]
    },
    {
      "cell_type": "code",
      "metadata": {
        "colab": {
          "base_uri": "https://localhost:8080/",
          "height": 406
        },
        "id": "bcJjZhFlY2NX",
        "outputId": "ea1120a3-60f9-4ddb-8742-3f3db0ea0650"
      },
      "source": [
        "#TEST\r\n",
        "df[~df['src_int']][['src', 'dst', 'port']]"
      ],
      "execution_count": 27,
      "outputs": [
        {
          "output_type": "execute_result",
          "data": {
            "text/html": [
              "<div>\n",
              "<style scoped>\n",
              "    .dataframe tbody tr th:only-of-type {\n",
              "        vertical-align: middle;\n",
              "    }\n",
              "\n",
              "    .dataframe tbody tr th {\n",
              "        vertical-align: top;\n",
              "    }\n",
              "\n",
              "    .dataframe thead th {\n",
              "        text-align: right;\n",
              "    }\n",
              "</style>\n",
              "<table border=\"1\" class=\"dataframe\">\n",
              "  <thead>\n",
              "    <tr style=\"text-align: right;\">\n",
              "      <th></th>\n",
              "      <th>src</th>\n",
              "      <th>dst</th>\n",
              "      <th>port</th>\n",
              "    </tr>\n",
              "  </thead>\n",
              "  <tbody>\n",
              "    <tr>\n",
              "      <th>0</th>\n",
              "      <td>16.79.101.100</td>\n",
              "      <td>12.48.65.39</td>\n",
              "      <td>92</td>\n",
              "    </tr>\n",
              "    <tr>\n",
              "      <th>1</th>\n",
              "      <td>18.43.118.103</td>\n",
              "      <td>14.51.30.86</td>\n",
              "      <td>27</td>\n",
              "    </tr>\n",
              "    <tr>\n",
              "      <th>2</th>\n",
              "      <td>15.71.108.118</td>\n",
              "      <td>14.50.119.33</td>\n",
              "      <td>57</td>\n",
              "    </tr>\n",
              "    <tr>\n",
              "      <th>4</th>\n",
              "      <td>18.121.115.31</td>\n",
              "      <td>13.56.39.74</td>\n",
              "      <td>92</td>\n",
              "    </tr>\n",
              "    <tr>\n",
              "      <th>5</th>\n",
              "      <td>16.108.75.29</td>\n",
              "      <td>14.34.34.69</td>\n",
              "      <td>65</td>\n",
              "    </tr>\n",
              "    <tr>\n",
              "      <th>...</th>\n",
              "      <td>...</td>\n",
              "      <td>...</td>\n",
              "      <td>...</td>\n",
              "    </tr>\n",
              "    <tr>\n",
              "      <th>105696547</th>\n",
              "      <td>16.69.70.57</td>\n",
              "      <td>13.38.62.122</td>\n",
              "      <td>37</td>\n",
              "    </tr>\n",
              "    <tr>\n",
              "      <th>105696548</th>\n",
              "      <td>19.85.110.114</td>\n",
              "      <td>14.36.39.68</td>\n",
              "      <td>56</td>\n",
              "    </tr>\n",
              "    <tr>\n",
              "      <th>105696550</th>\n",
              "      <td>18.86.88.110</td>\n",
              "      <td>12.55.116.41</td>\n",
              "      <td>65</td>\n",
              "    </tr>\n",
              "    <tr>\n",
              "      <th>105696554</th>\n",
              "      <td>15.45.117.87</td>\n",
              "      <td>12.56.77.107</td>\n",
              "      <td>25</td>\n",
              "    </tr>\n",
              "    <tr>\n",
              "      <th>105696555</th>\n",
              "      <td>18.102.82.27</td>\n",
              "      <td>12.37.37.23</td>\n",
              "      <td>119</td>\n",
              "    </tr>\n",
              "  </tbody>\n",
              "</table>\n",
              "<p>47690506 rows × 3 columns</p>\n",
              "</div>"
            ],
            "text/plain": [
              "                     src           dst  port\n",
              "0          16.79.101.100   12.48.65.39    92\n",
              "1          18.43.118.103   14.51.30.86    27\n",
              "2          15.71.108.118  14.50.119.33    57\n",
              "4          18.121.115.31   13.56.39.74    92\n",
              "5           16.108.75.29   14.34.34.69    65\n",
              "...                  ...           ...   ...\n",
              "105696547    16.69.70.57  13.38.62.122    37\n",
              "105696548  19.85.110.114   14.36.39.68    56\n",
              "105696550   18.86.88.110  12.55.116.41    65\n",
              "105696554   15.45.117.87  12.56.77.107    25\n",
              "105696555   18.102.82.27   12.37.37.23   119\n",
              "\n",
              "[47690506 rows x 3 columns]"
            ]
          },
          "metadata": {
            "tags": []
          },
          "execution_count": 27
        }
      ]
    }
  ]
}